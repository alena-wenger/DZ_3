{
 "cells": [
  {
   "cell_type": "code",
   "execution_count": null,
   "metadata": {},
   "outputs": [],
   "source": [
    "x = 'tesatin'\n",
    "\n",
    "if len(x) % 2 == 0:\n",
    "    print(x[len(x)//2-1],x[len(x)//2])\n",
    "else:\n",
    "    print(x[len(x)//2])"
   ]
  },
  {
   "cell_type": "code",
   "execution_count": null,
   "metadata": {},
   "outputs": [],
   "source": [
    "x = int(input('введите число '))\n",
    "total = [x,]\n",
    "\n",
    "while x != 0:\n",
    "    x = int(input('введите число '))\n",
    "    total.append(x)\n",
    "print('Результат:', sum(total))"
   ]
  },
  {
   "cell_type": "code",
   "execution_count": 1,
   "metadata": {},
   "outputs": [
    {
     "name": "stdout",
     "output_type": "stream",
     "text": [
      "Идеальные пары:\n",
      "Alex and Emma\n",
      "Arthur and Kate\n",
      "John and Kira\n",
      "Peter and Liza\n",
      "Richard and Trisha\n"
     ]
    }
   ],
   "source": [
    "boys = ['Peter', 'Alex', 'John', 'Arthur', 'Richard']\n",
    "girls = ['Kate','Liza', 'Kira', 'Emma', 'Trisha']\n",
    "\n",
    "if len(boys) != len(girls):\n",
    "    print('Результат: Внимание, кто-то может остаться без пары!')\n",
    "else:\n",
    "    print('Идеальные пары:')\n",
    "    ideal_couples = zip(sorted(boys), sorted(girls))\n",
    "    for boys, girls in ideal_couples:\n",
    "        print(boys, 'and', girls)"
   ]
  },
  {
   "cell_type": "code",
   "execution_count": 2,
   "metadata": {},
   "outputs": [
    {
     "name": "stdout",
     "output_type": "stream",
     "text": [
      "Средняя температура в странах:  \n",
      "\n",
      "Thailand - 23.9 C\n",
      "Germany - 13.8 C\n",
      "Russia - 3.7 C\n",
      "Poland - 12.0 C\n"
     ]
    }
   ],
   "source": [
    "countries_temperature = [\n",
    "['Thailand', [75.2, 77, 78.8, 73.4, 68, 75.2, 77]],\n",
    "['Germany', [57.2, 55.4, 59, 59, 53.6]],\n",
    "['Russia', [35.6, 37.4, 39.2, 41, 42.8, 39.2, 35.6]],\n",
    "['Poland', [50, 50, 53.6, 57.2, 55.4, 55.4]]\n",
    "]\n",
    "\n",
    "print('Средняя температура в странах: ', '\\n')\n",
    "\n",
    "for country, temperatures in countries_temperature:\n",
    "    average_temperature = (sum(temperatures)/len(temperatures) - 32) / 1.8\n",
    "    print(country, '-', round(average_temperature, 1),'C')"
   ]
  }
 ],
 "metadata": {
  "kernelspec": {
   "display_name": "Python 3",
   "language": "python",
   "name": "python3"
  },
  "language_info": {
   "codemirror_mode": {
    "name": "ipython",
    "version": 3
   },
   "file_extension": ".py",
   "mimetype": "text/x-python",
   "name": "python",
   "nbconvert_exporter": "python",
   "pygments_lexer": "ipython3",
   "version": "3.8.3"
  }
 },
 "nbformat": 4,
 "nbformat_minor": 4
}
